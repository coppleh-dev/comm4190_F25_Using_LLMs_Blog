{
 "cells": [
  {
   "cell_type": "markdown",
   "id": "4f352270-27bb-4e05-991f-e02c15bf5ab1",
   "metadata": {},
   "source": [
    "title: \"Prompting for Slang & Speech\"\n",
    "description: \"How do LLMs interpret slang/speech?\" \n",
    "author: \"Helen\"\n",
    "date: \"9/12/2025\"\n",
    "categories:\n",
    "  - LLMs\n",
    "  - Sociology "
   ]
  },
  {
   "cell_type": "markdown",
   "id": "fa597227-3fee-4eb1-9118-d8b81f07cf1c",
   "metadata": {},
   "source": [
    "Introduction\n",
    "\n",
    "I am interested in interpreting how LLMs (GPT-40) interpet slang. In other words, when prompted speak like a \"girl\" or speak like a \"boy\" I wonder how the two would be different. I also wonder how LLMs will interpret me saying speak like a \"New Yorker\" vs speak like a \"Bostonian.\" I will prompt GPT-40 to describe to me how to make pizza using slang from these different \"types\" of people."
   ]
  },
  {
   "cell_type": "markdown",
   "id": "1e9fd187-afa4-4933-b221-129dcf5f1065",
   "metadata": {},
   "source": [
    "Prompts:\n",
    "\n",
    "1. Describe to me how to make a Pizza like a girl would\n",
    "2. Describe to me how to make a Pizza like a boy would\n",
    "3. Describe to me how to make a Pizza like a New Yorker would\n",
    "4. Describe to me how to make a Pizza like a Bostonian would\n",
    "\n",
    "**I also prompted GPT-40 to be succint in their answers. Sometimes it would not spit out the direct response, so I prompted again \"talk like a girl would.\"**"
   ]
  },
  {
   "cell_type": "markdown",
   "id": "9fdea95d-ba7d-44cb-a6cd-b5a9a5522919",
   "metadata": {},
   "source": [
    "Prompt 1: Describe to me how to make a Pizza like a girl would\n",
    "\n",
    "Answer: Hey there! ❤️ Ready to make the cutest pizza ever? Let’s go!\n",
    "What You Need:\n",
    "Dough: Homemade or store-bought—whatever makes life easier.\n",
    "Sauce: Something tomato-y and delicious.\n",
    "Cheese: Mozzarella is a must, but a cheese party never hurt anyone.\n",
    "Toppings: Go wild—pepperoni, veggies, pineapple, you name it!\n",
    "Let’s Do This:\n",
    "Roll It Out: Dust some flour, and roll that dough! Try a heart shape for some extra cuteness.\n",
    "Sauce Time: Spread that yummy sauce on, leaving a little border for the crust. Think of it as painting—get creative!\n",
    "Say Cheese: Load on the cheese. Maybe make fun shapes or spell something out!\n",
    "Top It Off: Time to party with the toppings. Make a smiley face or a cute pattern. Go artsy!\n",
    "Bake with Love: Pop it in the oven at 475°F (245°C) for about 10-15 mins until it's golden and bubbly.\n",
    "Finishing Touch: Add some fresh herbs or a sprinkle of red pepper flakes for a little zing!\n",
    "Don’t Forget:\n",
    "Chill Vibes: Crank up your fave tunes. Dance around a bit; it’s a pizza party!\n",
    "Share the Love: Invite some friends or fam to join in. The more, the merrier, right?\n",
    "Enjoy every cheesy, delicious bite! 🍕💕\n",
    "\n",
    "Analysis: GPT-40 used a lot of hearts and exclamation marks, perhaps indicating that women are more likely to show more enthusiasm/emotional. There is a bit of a \"ditzy\" with words such as \"extra cuteness,\" \"yummy,\" and \"artsy.\" I think GPT-40 is adhering to typical gender stereotypes, but it seems like this LLM's understanding of a classic \"girly\" response also meant it lose its seriousness. "
   ]
  },
  {
   "cell_type": "markdown",
   "id": "8d1d8f86-c3ac-4fae-91fb-469e4428607f",
   "metadata": {},
   "source": [
    "Prompt 2: Describe to me how to make a Pizza like a boy would\n",
    "\n",
    "Response: Hey man, ready to make some epic pizza? Let’s get to it!\n",
    "What You Need:\n",
    "Dough: Store-bought or homemade, your call.\n",
    "Sauce: Your favorite tomato pizza sauce.\n",
    "Cheese: Mozzarella works great, but add what you like.\n",
    "Toppings: Whatever you’re into—pepperoni, peppers, mushrooms, you name it.\n",
    "Steps:\n",
    "Roll It Out: On a floured surface, roll out your dough to your preferred thickness.\n",
    "Sauce It Up: Spread that sauce evenly, leaving room for the crust.\n",
    "Cheese Time: Cover with mozzarella. Feel free to add a mix for extra flavor.\n",
    "Top It: Add your chosen toppings. It’s your pizza, load it up how you like.\n",
    "Bake: Preheat oven to 475°F (245°C). Cook for 10-15 minutes until the crust is golden and cheese is bubbling.\n",
    "Finish: Add some fresh herbs if you’re feeling fancy.\n",
    "Extras:\n",
    "Tunes: Put on some music. Keeps the vibes good.\n",
    "Chill and Enjoy: Invite a buddy or grab a cold drink. Good times ahead!\n",
    "Dig in and enjoy—you've earned it! 🍕\n",
    "\n",
    "Analysis: I find this one interesting because it is more succint, abrupt, and to the point. There's also a mention of alcohol, which I find interesting as well. I think, overall, the \"boy\" version is much more serious than the girl version—maybe playing into stereotypes of men being more formal/straight to the point than women. \n"
   ]
  },
  {
   "cell_type": "markdown",
   "id": "ffae7cc2-2fd3-4bf2-adb1-55138017bcf2",
   "metadata": {},
   "source": [
    "Step 3: Describe to me how to make a Pizza like a New Yorker would\n",
    "\n",
    "Response: Alright, listen up! We’re making a classic New York slice, so let’s do this right.\n",
    "What You Need:\n",
    "Dough: Go for that high-gluten stuff, gives you the right chew. Grab it from a local joint if you ain't making it.\n",
    "Sauce: Keep it simple. Crushed tomatoes, a drizzle of olive oil, some garlic, pinch of oregano.\n",
    "Cheese: Low-moisture mozzarella, none of that fancy stuff.\n",
    "Toppings: Keep it classic. Maybe some pepperoni, or just cheese if you’re a purist.\n",
    "Here’s the Deal:\n",
    "Roll the Dough: Get it nice and thin, alright? You want a big, floppy slice.\n",
    "Sauce It Up: Light layer of sauce, not too much! We ain't making soup here.\n",
    "Cheese Layer: Cover with shredded mozzarella. Go generous—don't be stingy.\n",
    "Toppings: Throw on some pepperoni if you’re feeling it.\n",
    "Bake: Crank your oven as high as it goes—500-550°F, got it? Use a pizza stone if you got one. Bake till that crust is golden and the cheese has those little brown spots.\n",
    "Slice It: Big slices, none of those tiny cuts. Gotta be foldable, ya know?\n",
    "Final Touch:\n",
    "Extras: Hit it with some Parmesan and red pepper flakes if you like a kick.\n",
    "Eat Up: Grab a soda or a cold beer, and enjoy it hot outta the oven.\n",
    "Now, dig in and enjoy! Just like we do it in New York. 🍕\n",
    "\n",
    "Analysis: With family from New York, I found this one really fun! I think it definitely adhered to the stereotypes of New Yorkers being loud and energetic. Using slang like 'ain't,' 'ya know?' and 'outta' also maybe adheres to a type of New Yorker they are trying to get at. I also noticed it's more succint as well compared to the \"girl.\"\n",
    "\n",
    "\n"
   ]
  },
  {
   "cell_type": "markdown",
   "id": "372aa9e4-38fc-49db-b1b6-a6d56608eea6",
   "metadata": {},
   "source": [
    "Prompt 4: Describe to me how to make a Pizza like a Bostonian would\n",
    "\n",
    "Response: Hey, kid, let’s whip up a wicked good pizza, Boston-style. Here’s how we’re gonna do it.\n",
    "What You Need:\n",
    "Dough: Make it a bit thicker, give it that hearty New England feel.\n",
    "Sauce: Rich tomato sauce with some garlic and herbs tossed in.\n",
    "Cheese: Load it up with mozzarella and maybe toss in some cheddar for good measure.\n",
    "Toppings: Whatever you’re in the mood for. Sausage, peppers, maybe some of that Boston baked bean vibe if you’re adventurous.\n",
    "The Process:\n",
    "Roll Out the Dough: You want a medium-thick crust, something that holds up—a real chowda of a crust.\n",
    "Ladle on the Sauce: Be generous with the sauce, we ain’t skimpin’ here.\n",
    "Cheese It Up: Cover it with mozzarella and throw some cheddar if you’re feeling it. We like it cheesy!\n",
    "Top It Off: Add your toppings. Be creative or keep it classic—dealer’s choice, kid.\n",
    "Bake It: Set the oven to around 425°F. Let it cook till the crust is golden and the cheese bubbles. About 15-20 minutes oughta do it.\n",
    "Slice It Up: Cut it into nice, hearty slices.\n",
    "Final Touches:\n",
    "Finish Strong: Maybe sprinkle some fresh herbs or a dash of olive oil if you’re putting on airs.\n",
    "Savor It: Pair it with a cold Sam Adams or your favorite local brew.\n",
    "Now go on, chow down and enjoy your pizza, Boston-style!\n",
    "\n",
    "Analysis: This response was similar to the New York Style Response. It was very succint and to the point, while also having a little touch of slang such as \"wicked\" \"kid\" and \"local brew.\" I also noticed there was specificity within the alcohol touch such as \"Sam Adams.\" I also think it is interesting how both the New York and Boston \"tone\" align more closely with GPT-40s interpretation of a \"male\" slang rather than female slang. \n",
    "\n",
    "\n",
    "\n",
    "\n",
    "\n",
    "\n",
    "\n",
    "\n",
    "\n"
   ]
  },
  {
   "cell_type": "markdown",
   "id": "a5b6a552-1021-4d8a-b0ce-39ff47f973d3",
   "metadata": {},
   "source": [
    "Conclusion:\n",
    "\n",
    "All in all, I think GPT-40s adhered to stereotypes on City and Gender. However, I do think Boston's was less of a \"Bostonian\" culure and more just that of a man. I noted before that GPT-40 used similarly language with New York and Boston as it did with \"male.\" I wonder if it has to do with the actual food–pizza. Maybe if I asked GPT-40 to make a salad for example, it would have had more of a stereotypically feminine touch."
   ]
  }
 ],
 "metadata": {
  "kernelspec": {
   "display_name": "Python 3-12 (COMM4190)",
   "language": "python",
   "name": "python3-12_comm4190"
  },
  "language_info": {
   "codemirror_mode": {
    "name": "ipython",
    "version": 3
   },
   "file_extension": ".py",
   "mimetype": "text/x-python",
   "name": "python",
   "nbconvert_exporter": "python",
   "pygments_lexer": "ipython3",
   "version": "3.12.11"
  }
 },
 "nbformat": 4,
 "nbformat_minor": 5
}
