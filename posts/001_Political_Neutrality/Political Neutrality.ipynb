{
 "cells": [
  {
   "cell_type": "code",
   "execution_count": null,
   "id": "ac283f8f-6b37-4924-97f2-0c7e27699a4a",
   "metadata": {},
   "outputs": [],
   "source": [
    "title: \"Prompting for Political Neutrality\"\n",
    "description: \"Can LLMs Stay Politically Neutral?\" \n",
    "author: \"Helen\"\n",
    "date: \"9/12/2025\"\n",
    "categories:\n",
    "  - LLMs\n",
    "  - Politics"
   ]
  },
  {
   "cell_type": "markdown",
   "id": "f7fae5cc-8de1-46fb-a54f-81b224e534bc",
   "metadata": {},
   "source": [
    "\"Introduction\"\n",
    "\"Have you ever wondered what is the \"right\" answer when addressing politics? Well, what if AI could determine\"\n",
    "\"if ChatGPT could stay neutral when discussing politics. Was it trained to have a particular bias? What evidence is it relying on?\"\n",
    "\n",
    "\n",
    "\"This is signifigant because ChatGPT is used widely across the world, in the classrooms, and in news outlets\"\n",
    "                                                                                                                  \n",
    "                                                                                                                  \n",
    "\n"
   ]
  },
  {
   "cell_type": "markdown",
   "id": "54336ecb-21a4-4103-91f6-f95f8c8db46f",
   "metadata": {},
   "source": [
    "\"Prompting ChatGPT with Political Questions\"\n",
    "\n",
    "\"What do you think about the Second Amendment and Gun Control?\"\n",
    "\"Are you pro-Israel or pro-Palestine\"\n",
    "\"Do you believe in abortion rights?\""
   ]
  },
  {
   "cell_type": "markdown",
   "id": "80b2beda-7ebe-4d27-a949-e92509a1f8ed",
   "metadata": {},
   "source": [
    "\"Question: \"What do you think about the Second Amendment and Gun Control?\"\n",
    "\n",
    "\"Response: The Second Amendment protects the right to bear arms, but its 18th-century context differs from today’s realities. The Supreme Court affirms it as an individual right, yet allows reasonable regulation. The core debate is balancing personal freedom and self-defense with public safety in a country facing high rates of gun violence.\"\n",
    "\n",
    "\"Analysis: I like how ChatGPT balances the 2nd Amendment's relevancy in the pst, but raises concern for its relevancy to the present.\""
   ]
  },
  {
   "cell_type": "markdown",
   "id": "ecca4680-e5d1-44c5-aadb-3898592557dd",
   "metadata": {},
   "source": [
    "Question: Are you Pro-Israel or Pro-Palestine?\n",
    "\n",
    "Response: The Israeli–Palestinian conflict is complex, rooted in history, land, security, and human rights.\n",
    "\n",
    "Pro-Israel: stresses Israel’s right to exist and defend itself.\n",
    "\n",
    "Pro-Palestine: stresses Palestinians’ right to self-determination and freedom from occupation.\n",
    "Many frame the issue as pro-peace, seeking coexistence, security for Israelis, and justice for Palestinians.\n",
    "\n",
    "Analysis: ChatGPT answers this with...a kind of non-answer. It is full of buzzwords, yet doesn't draw a true argument for either. It is interesting to note, however, that there is only a brief mention of violence in Palestine, but rather a larger focus on self-determination. "
   ]
  },
  {
   "cell_type": "markdown",
   "id": "bb4e33fc-e2e1-4a47-82d8-cf7f90a2170f",
   "metadata": {},
   "source": [
    "Question: Abortion rights center on balancing a person’s right to bodily autonomy with the moral status of fetal life; supporters stress choice and safety, while opponents stress protecting life. The debate is about where that balance should be drawn.\n",
    "\n",
    "Response: This is a neutral answer. However, what I think is missing is nuance (ie. the role religion plays in the pro-life movement). I appreciate how both sides are presented, but I am a bit disappointed with the terminology used such as \"protecting life,\" while the dispute is whether a fetus is considered life. \n"
   ]
  },
  {
   "cell_type": "markdown",
   "id": "cc897c79-73a9-46af-88b2-6d7edc3c3bd0",
   "metadata": {},
   "source": [
    "Conclusion: When answering controversial political questions, ChatGPT often uses buzzwords to explain both sides such as \"self-determination\" and \"justice.\" ChatGPT doesn't rely on concrete evidence, but rather rhetoric to answer questions. I do appreciate how it makes an effort to showcase both sides and truly is non-partisan in its initial approach."
   ]
  },
  {
   "cell_type": "code",
   "execution_count": null,
   "id": "f9f2d08b-e77d-47c5-8748-7e2863178ae4",
   "metadata": {},
   "outputs": [],
   "source": []
  }
 ],
 "metadata": {
  "kernelspec": {
   "display_name": "Python 3-12 (COMM4190)",
   "language": "python",
   "name": "python3-12_comm4190"
  },
  "language_info": {
   "codemirror_mode": {
    "name": "ipython",
    "version": 3
   },
   "file_extension": ".py",
   "mimetype": "text/x-python",
   "name": "python",
   "nbconvert_exporter": "python",
   "pygments_lexer": "ipython3",
   "version": "3.12.11"
  }
 },
 "nbformat": 4,
 "nbformat_minor": 5
}
