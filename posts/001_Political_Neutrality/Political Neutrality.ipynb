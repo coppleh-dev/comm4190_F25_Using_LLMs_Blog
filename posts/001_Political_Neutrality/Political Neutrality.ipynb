{
 "cells": [
  {
   "cell_type": "code",
   "execution_count": null,
   "id": "ac283f8f-6b37-4924-97f2-0c7e27699a4a",
   "metadata": {},
   "outputs": [],
   "source": [
    "title: \"Prompting for Political Neutrality\"\n",
    "description: \"Can LLMs Stay Politically Neutral?\" \n",
    "author: \"Helen\"\n",
    "date: \"9/12/2025\"\n",
    "categories:\n",
    "  - LLMs\n",
    "  - Politics"
   ]
  }
 ],
 "metadata": {
  "kernelspec": {
   "display_name": "Python 3-12 (COMM4190)",
   "language": "python",
   "name": "python3-12_comm4190"
  },
  "language_info": {
   "codemirror_mode": {
    "name": "ipython",
    "version": 3
   },
   "file_extension": ".py",
   "mimetype": "text/x-python",
   "name": "python",
   "nbconvert_exporter": "python",
   "pygments_lexer": "ipython3",
   "version": "3.12.11"
  }
 },
 "nbformat": 4,
 "nbformat_minor": 5
}
