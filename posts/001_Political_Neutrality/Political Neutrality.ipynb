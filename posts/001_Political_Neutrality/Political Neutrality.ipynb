{
 "cells": [
  {
   "cell_type": "code",
   "execution_count": null,
   "id": "ac283f8f-6b37-4924-97f2-0c7e27699a4a",
   "metadata": {},
   "outputs": [],
   "source": [
    "title: \"Prompting for Political Neutrality\"\n",
    "description: \"Can LLMs Stay Politically Neutral?\" \n",
    "author: \"Helen\"\n",
    "date: \"9/12/2025\"\n",
    "categories:\n",
    "  - LLMs\n",
    "  - Politics"
   ]
  },
  {
   "cell_type": "code",
   "execution_count": 1,
   "id": "c6939db1-9c18-478e-8d9f-bfe3a133c41c",
   "metadata": {},
   "outputs": [
    {
     "ename": "SyntaxError",
     "evalue": "invalid syntax (2128446667.py, line 1)",
     "output_type": "error",
     "traceback": [
      "\u001b[0;36m  Cell \u001b[0;32mIn[1], line 1\u001b[0;36m\u001b[0m\n\u001b[0;31m    **Introduction**\u001b[0m\n\u001b[0m    ^\u001b[0m\n\u001b[0;31mSyntaxError\u001b[0m\u001b[0;31m:\u001b[0m invalid syntax\n"
     ]
    }
   ],
   "source": [
    "\"Introduction\"\n",
    "\"Have you ever wondered what is the \"right\" answer when addressing politics? Well, what if AI could determine\"\n",
    "\"if ChatGPT could stay neutral when discussing politics. Was it trained to have a particular bias? What evidence is it relying on?\"\n",
    "\n",
    "\n",
    "\"This is signifigant because ChatGPT is used widely across the world, in the classrooms, and in news outlets\"\n",
    "                                                                                                                  \n",
    "                                                                                                                  \n",
    "\n"
   ]
  },
  {
   "cell_type": "code",
   "execution_count": 3,
   "id": "60149c56-b491-4cba-939d-cccfc5de583b",
   "metadata": {},
   "outputs": [
    {
     "data": {
      "text/plain": [
       "'Do you believe in abortion rights?'"
      ]
     },
     "execution_count": 3,
     "metadata": {},
     "output_type": "execute_result"
    }
   ],
   "source": [
    "\"Prompting ChatGPT with Political Questions\"\n",
    "\n",
    "\"What do you think about the Second Amendment and Gun Control?\"\n",
    "\"Are you pro-Israel or pro-Palestine\"\n",
    "\"Do you believe in abortion rights?\""
   ]
  },
  {
   "cell_type": "code",
   "execution_count": null,
   "id": "1bd5cd5d-f5d2-4259-bd94-62d2f8d8ea62",
   "metadata": {},
   "outputs": [],
   "source": [
    "\"Question: \"What do you think about the Second Amendment and Gun Control?\"\n",
    "\n",
    "\"Response: The Second Amendment protects the right to bear arms, but its 18th-century context differs from today’s realities. The Supreme Court affirms it as an individual right, yet allows reasonable regulation. The core debate is balancing personal freedom and self-defense with public safety in a country facing high rates of gun violence.\"\n",
    "\n",
    "\"Analysis: I like how ChatGPT balances the 2nd Amendment's relevancy in the pst, but raises concern for its"
   ]
  },
  {
   "cell_type": "code",
   "execution_count": null,
   "id": "60fa416c-93fe-4888-a2a1-a34e3ad9dd9d",
   "metadata": {},
   "outputs": [],
   "source": []
  },
  {
   "cell_type": "code",
   "execution_count": null,
   "id": "a194972b-1f12-4439-8b99-40215639bb96",
   "metadata": {},
   "outputs": [],
   "source": []
  }
 ],
 "metadata": {
  "kernelspec": {
   "display_name": "Python 3-12 (COMM4190)",
   "language": "python",
   "name": "python3-12_comm4190"
  },
  "language_info": {
   "codemirror_mode": {
    "name": "ipython",
    "version": 3
   },
   "file_extension": ".py",
   "mimetype": "text/x-python",
   "name": "python",
   "nbconvert_exporter": "python",
   "pygments_lexer": "ipython3",
   "version": "3.12.11"
  }
 },
 "nbformat": 4,
 "nbformat_minor": 5
}
