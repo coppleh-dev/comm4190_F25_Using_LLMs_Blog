{
 "cells": [
  {
   "cell_type": "code",
   "execution_count": 3,
   "id": "261b27e8-d7ac-46a3-b6f7-ac38f7ddad30",
   "metadata": {},
   "outputs": [
    {
     "ename": "SyntaxError",
     "evalue": "invalid syntax (1678593444.py, line 5)",
     "output_type": "error",
     "traceback": [
      "\u001b[0;36m  Cell \u001b[0;32mIn[3], line 5\u001b[0;36m\u001b[0m\n\u001b[0;31m    categories:\u001b[0m\n\u001b[0m               ^\u001b[0m\n\u001b[0;31mSyntaxError\u001b[0m\u001b[0;31m:\u001b[0m invalid syntax\n"
     ]
    }
   ],
   "source": [
    "title: \"Vacation Ideas\"\n",
    "description: \"Can an LLM plan my dream Vacation in South Africa?\" \n",
    "author: \"Helen\"\n",
    "date: \"9/12/2025\"\n",
    "categories:\n",
    "  - LLMs\n",
    "  - Entertainment "
   ]
  },
  {
   "cell_type": "markdown",
   "id": "02021a48-8b81-4487-b080-1ebaa199ac60",
   "metadata": {},
   "source": [
    "Introduction\n",
    "\n",
    "I'm studying abroad in Cape Town, South Africa next semester, so I need new ideas of things to do and where is best to explore. So, today I want to see if GPT-40 and Google Gemini 2.5 Flash can plan my dream vacation in South Africa so I know all the spots to hit and where is best to explore. I also want GPT-40 and Google Gemini 2.5 Flash to make it specific to me, so I am making sure to list important factors about me, interests, and hobbies. I am interested in seeing the differences between the two GPTs and how they respond differently. "
   ]
  },
  {
   "cell_type": "markdown",
   "id": "7e083fd3-7a28-402e-a153-ff66eb70ab49",
   "metadata": {},
   "source": [
    "GPT 40 Prompt:\n",
    "\n",
    "I am a 20 year old girl studying abroad in Cape Town, South Africa next spring. \n",
    "\n",
    "I am interested in exploring hiking in South Africa, going to National Parks, exploring local cuisine, and learning more about South African history and apartheid. Make a to-do list of specific restuarants, place, activities, museums, etc I need to try in Cape Town and South Africa as a country. Plan me a week long vacation in South Africa that fits a college-student budget. "
   ]
  },
  {
   "cell_type": "markdown",
   "id": "97f3d325-31f0-434e-a000-9abaeba45e51",
   "metadata": {},
   "source": [
    "GPT-40 Response: Day 1: Arrival in Cape Town\n",
    "Accommodation: Stay in a budget-friendly hostel or guesthouse in areas like Green Point or Observatory.\n",
    "Activity: Take a leisurely walk through the V&A Waterfront for people-watching and window shopping. Explore the nearby Zeitz MOCAA for contemporary African art.\n",
    "Dinner: Enjoy a budget-friendly meal at Mama Africa for traditional African cuisine and live music.\n",
    "Day 2: Cape Town Essentials\n",
    "Morning: Hike up Lion's Head for sunrise; it's less crowded and free.\n",
    "Afternoon: Visit the District Six Museum (student discounts available) to learn about apartheid history.\n",
    "Lunch: Grab something to eat at a local café like Truth Coffee, known for its affordable and excellent coffee.\n",
    "Evening: Explore the Bo-Kaap neighborhood. Have dinner at a local eatery serving Cape Malay cuisine, like Biesmiellah.\n",
    "Day 3: Nature and Wine\n",
    "Morning: Catch a local train to Stellenbosch (budget-friendly travel option) and rent a bike to explore the vineyards.\n",
    "Afternoon: Participate in a budget wine tasting at one of the smaller estates or pack a picnic and enjoy the scenic views.\n",
    "Evening: Return to Cape Town. Have a low-cost dinner by grabbing some local street food or visiting a food market like the Neighbourgoods Market.\n",
    "Day 4: Cape Peninsula\n",
    "Full-Day Tour: Rent a car (or join a budget-friendly tour group) and explore the Cape Point and Cape of Good Hope. Stop at Simon’s Town for the Boulders Beach penguin colony.\n",
    "Lunch: Pack a picnic or eat at a local café in Simon's Town.\n",
    "Evening: Drive back via Kalk Bay for fish and chips at Kalky’s.\n",
    "Day 5: Table Mountain and Gardens\n",
    "Morning: Take the cable car (consider student discounts) or hike up Table Mountain.\n",
    "Afternoon: Spend time at Kirstenbosch National Botanical Garden. Entry is affordable and the garden is perfect for a relaxing afternoon.\n",
    "Evening: Have dinner at a budget-friendly local restaurant like MZANSI in the Langa township for a unique experience.\n",
    "Day 6: Safari and Wildlife\n",
    "Option 1: Day trip to Aquila Private Game Reserve for an affordable safari. They offer budget packages.\n",
    "Option 2: If you'd rather stay local, visit the World of Birds Wildlife Sanctuary in Hout Bay.\n",
    "Lunch: At the reserve (often included) or a local café.\n",
    "Dinner: Return to Cape Town for dinner at a student-friendly eatery or join a braai hosted by locals at a backpacker hostel.\n",
    "Day 7: History and Culture\n",
    "Morning: Ferry to Robben Island (book in advance; student discounts may apply).\n",
    "Afternoon: Return and visit the Castle of Good Hope.\n",
    "Evening: Celebrate your last night with a casual dinner at The Pot Luck Club for a splurge or another local spot.\n",
    "Additional Tips:\n",
    "Accommodation: Use platforms like Hostelworld or Airbnb for budget stays.\n",
    "Transportation: Consider using MyCiTi buses or rent a bike for cheap travel around the city.\n",
    "Activities: Check for student discounts and plan your visits accordingly.\n",
    "Meals: Opt for local markets, food stalls, and casual eateries to save money.\n",
    "With a careful budget and a focused itinerary, you can enjoy a memorable and enriching week in South Africa!\n",
    "\n",
    "\n",
    "\n",
    "\n",
    "\n",
    "\n",
    "\n"
   ]
  },
  {
   "cell_type": "markdown",
   "id": "9060b076-85e9-4638-8eae-2f77023c925a",
   "metadata": {},
   "source": [
    "Analysis: I think, overall, GPT-40 made a great itinerary and tailored the schedule well to a 20 year old college student. I will say, some of the activities are quite vague. FOr example, there are no specific hotel reccomendations. I do appreciate the specificity of the transportation such as Citibike/cable cars, which have studets discounts. I do think it suffers from the \"over generalization\" pitfall GPTs fall into frequently. It does lack specificity with activities, pricing, and details of events, so I am curious to see\n",
    "\n"
   ]
  },
  {
   "cell_type": "markdown",
   "id": "067b4681-0dbd-4db7-ba1f-8bc4346ce0dc",
   "metadata": {},
   "source": [
    "Google Gemini Prompt: \n",
    "\n",
    "I am a 20 year old girl studying abroad in Cape Town, South Africa next spring. \n",
    "\n",
    "I am interested in exploring hiking in South Africa, going to National Parks, exploring local cuisine, and learning more about South African history and apartheid. Make a to-do list of specific restuarants, place, activities, museums, etc I need to try in Cape Town and South Africa as a country. Plan me a week long vacation in South Africa that fits a college-student budget. \n",
    "\n",
    "Response: Okay, this sounds like an incredible adventure! Building on your interests and focusing on the Western Cape to keep travel costs down, here's a 7-day college-student-budget-friendly itinerary for your spring study abroad experience in South Africa.\n",
    "This plan prioritizes hostel accommodation, self-catering/market food, public transport/ride-sharing, and free/low-cost activities.\n",
    "7-Day College-Student Budget Itinerary: Cape Town & Coastal Gems\n",
    "General Budget Tips for the Week:\n",
    "Accommodation: Stay in hostels! Look for options like The Backpack, Once in Cape Town, Mojo Hotel, or Atlantic Point Backpackers. Dorm beds are cheapest, and many hostels have kitchens for self-catering.\n",
    "Food:\n",
    "Self-Cater: Buy groceries from supermarkets like Pick n Pay or Food Lover's Market and cook at your hostel.\n",
    "Food Markets: Hit the Neighbourgoods Market (Saturday) or V&A Food Market for diverse, often affordable meals.\n",
    "Local Takeaways: Try a Gatsby (massive sandwich, great for sharing) or vetkoek (fried dough) for cheap, filling meals.\n",
    "Water: Carry a reusable water bottle and refill it.\n",
    "Transport:\n",
    "MyCiTi Bus: Get a MyCiTi card for efficient public transport within Cape Town.\n",
    "Uber/Bolt: Use ride-sharing apps, especially if splitting fares with friends.\n",
    "Car Rental: For day trips outside the city, rent a car for 1-2 days and split the cost (fuel, rental fee) with 2-3 other travelers. This is often more cost-effective than multiple Ubers or tours.\n",
    "Student ID: Always carry your student ID; many attractions offer student discounts.\n",
    "Book Ahead: For popular attractions like Robben Island or Table Mountain Cableway, book online in advance for potentially better prices and to secure your spot.\n",
    "Day 1: Arrival & City Centre History\n",
    "Morning: Arrive in Cape Town, check into your chosen hostel. Settle in and grab some groceries for the week.\n",
    "Afternoon:\n",
    "Bo-Kaap: Take a self-guided walking tour through the vibrant, colourful streets. Learn about the Cape Malay community's history. (Free)\n",
    "District Six Museum: A powerful and essential visit to understand apartheid's impact on Cape Town. (Approx. R60-R100 student entry)\n",
    "Evening:\n",
    "Dinner: Experience a true Cape Town classic: a Gatsby. Head to a local spot like Golden Dish (Athlone) or Super Fisheries (Maitland) via Uber/Bolt. It's huge, so perfect for sharing!\n",
    "Activity: Stroll down Long Street to soak in the bustling atmosphere.\n",
    "Day 2: Iconic Views & Waterfront Buzz\n",
    "Morning:\n",
    "Lion's Head Hike: Wake up early for an unforgettable sunrise hike. It's moderately challenging but offers incredible 360-degree views. (Free)\n",
    "Alternative (if not hiking): Take the Table Mountain Cableway up for panoramic views. Book online in advance. (Approx. R200-R400 return, student discount possible)\n",
    "Afternoon:\n",
    "V&A Waterfront: Explore the harbour, enjoy the street performers, and browse the Watershed Market for local crafts.\n",
    "Lunch: Head to the V&A Food Market for a wide array of affordable and delicious food stalls.\n",
    "Evening:\n",
    "Dinner: Cook a budget-friendly meal at your hostel kitchen, using your groceries.\n",
    "Day 3: Robben Island & Deeper History\n",
    "Morning:\n",
    "Robben Island Tour: This is an absolute must-do. Take the ferry from the V&A Waterfront to the island where Nelson Mandela was imprisoned. Tours are often led by former political prisoners. Book well in advance! (Approx. R400-R600, student discount possible)\n",
    "Afternoon:\n",
    "Iziko Slave Lodge: Continue your historical exploration by learning about the history of slavery in South Africa. (Approx. R30-R60 student entry)\n",
    "Company's Garden: Relax and stroll through this beautiful, historic public park in the city centre. (Free)\n",
    "Evening:\n",
    "Dinner: Explore one of the many budget-friendly restaurants or cafes around the city centre, or self-cater again.\n",
    "Day 4: Cape Peninsula Road Trip (Share a Car!)\n",
    "Best Option for Budget & Flexibility: Rent a car for the day and split the cost (rental + fuel) with 2-3 friends from your hostel.\n",
    "Route:\n",
    "Drive the stunning Chapman's Peak Drive (scenic toll road).\n",
    "Visit Boulders Beach in Simon's Town to see the adorable African Penguins up close. (Approx. R176 international adult entry, check for student rates)\n",
    "Continue to Cape Point & Cape of Good Hope (entry fee for Table Mountain National Park applies here). Enjoy the dramatic cliffs and ocean views. Hike one of the shorter trails. (Approx. R376 international adult entry for TMNP, check for student rates)\n",
    "Evening: Return to Cape Town. Relax after a day of breathtaking scenery.\n",
    "Day 5: Stellenbosch Winelands & Nature\n",
    "Morning:\n",
    "Transport to Stellenbosch: Take a bus (e.g., Intercape) or a shared Uber/Bolt from Cape Town (approx. 1 hour).\n",
    "Explore Stellenbosch Town: Wander through the charming oak-lined streets and admire the Cape Dutch architecture.\n",
    "Afternoon:\n",
    "Wine Tasting (Budget-Friendly): Focus on 1-2 wineries. Some offer very affordable tastings. Spier Wine Farm often has various options, or look for smaller boutique wineries. Consider renting a bicycle to cycle between vineyards if you're feeling active. (Tastings R50-R150+)\n",
    "Alternative: If wine isn't your focus, visit Jonkershoek Nature Reserve for a beautiful hike or walk amidst fynbos and forests.\n",
    "Evening: Return to Cape Town.\n",
    "Day 6: West Coast Wildflowers or Coastal Charm\n",
    "Option 1 (Spring Focus - Sept/Oct): West Coast National Park\n",
    "Transport: Rent a car for the day (split cost with friends) or look for a specific wildflower tour.\n",
    "Activity: Drive to West Coast National Park (approx. 1.5 hours). If you're there in spring, the Postberg section (open seasonally) is a must for wildflowers. Otherwise, enjoy the turquoise lagoon and coastal walks. (Approx. R104-R236 international adult entry, check for student rates)\n",
    "Option 2 (All Year): Kogelberg Nature Reserve & Coastal Drive\n",
    "Transport: Rent a car (split cost) and drive along the scenic R44 coastal road towards Kleinmond.\n",
    "Activity: Explore Kogelberg Nature Reserve, a UNESCO Biosphere Reserve known for its pristine fynbos and dramatic mountains. Enjoy a hike or a leisurely walk. (Day Permit Fee approx. R50-R70)\n",
    "Evening: Return to Cape Town. Enjoy a relaxed evening at your hostel.\n",
    "Day 7: Township Experience & Departure Prep\n",
    "Morning:\n",
    "Langa or Gugulethu Township Tour: This is an essential experience for understanding contemporary South Africa and the legacy of apartheid. Book with a reputable, ethical local operator that actively supports the community (ask your hostel for recommendations). (Approx. R500-R1000, but invaluable for perspective)\n",
    "Afternoon:\n",
    "Souvenir Shopping: Head back to the V&A Waterfront or the Watershed Market for last-minute gifts.\n",
    "Relax/Revisit: Enjoy a final stroll through Kirstenbosch National Botanical Garden (if you didn't go earlier - entry fee applies) or revisit a favourite cafe.\n",
    "Evening:\n",
    "Farewell Dinner: Treat yourself to a slightly nicer but still budget-conscious dinner, perhaps at a spot you've enjoyed or wanted to try. Prepare for your next week of studies or onward travel!\n",
    "\n",
    "Analysis: I actually enjoyed the Google Gemini GPT 2.5 better than the GPT 40. I think the Gemini is much more specific in terms of activities to do as well as more creative in activities. From outside research, I read Gemini is more advanced in in-depth contextual research whereas GPT 40 is better at integrated conversational skills. I also appreciate how Gemini understood this was a budget-friendly trip and thus outlined specific prices for different activities.  "
   ]
  },
  {
   "cell_type": "code",
   "execution_count": null,
   "id": "fd08dac7-1e59-4271-ba72-b208e00ff050",
   "metadata": {},
   "outputs": [],
   "source": []
  }
 ],
 "metadata": {
  "kernelspec": {
   "display_name": "Python 3-12 (COMM4190)",
   "language": "python",
   "name": "python3-12_comm4190"
  },
  "language_info": {
   "codemirror_mode": {
    "name": "ipython",
    "version": 3
   },
   "file_extension": ".py",
   "mimetype": "text/x-python",
   "name": "python",
   "nbconvert_exporter": "python",
   "pygments_lexer": "ipython3",
   "version": "3.12.11"
  }
 },
 "nbformat": 4,
 "nbformat_minor": 5
}
